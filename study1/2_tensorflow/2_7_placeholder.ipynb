{
 "cells": [
  {
   "cell_type": "code",
   "execution_count": 1,
   "metadata": {},
   "outputs": [],
   "source": [
    "import tensorflow as tf"
   ]
  },
  {
   "cell_type": "code",
   "execution_count": 2,
   "metadata": {},
   "outputs": [],
   "source": [
    "x = tf.placeholder(tf.int32, shape=(2, 2))\n",
    "y = tf.matmul(x, x)"
   ]
  },
  {
   "cell_type": "code",
   "execution_count": 3,
   "metadata": {},
   "outputs": [
    {
     "name": "stdout",
     "output_type": "stream",
     "text": [
      "[[3 6]\n",
      " [3 6]]\n"
     ]
    }
   ],
   "source": [
    "with tf.Session() as sess:\n",
    "    # placeholder 입력 값 할당 전에 출력하면 에러 발생\n",
    "    #print(sess.run(y))\n",
    "\n",
    "    matrix = [[1, 2],\n",
    "                  [1, 2]]\n",
    "    print(sess.run(y, feed_dict={x: matrix})) # 성공적으로 출력"
   ]
  }
 ],
 "metadata": {
  "kernelspec": {
   "display_name": "Python 3",
   "language": "python",
   "name": "python3"
  },
  "language_info": {
   "codemirror_mode": {
    "name": "ipython",
    "version": 3
   },
   "file_extension": ".py",
   "mimetype": "text/x-python",
   "name": "python",
   "nbconvert_exporter": "python",
   "pygments_lexer": "ipython3",
   "version": "3.6.5"
  }
 },
 "nbformat": 4,
 "nbformat_minor": 2
}
