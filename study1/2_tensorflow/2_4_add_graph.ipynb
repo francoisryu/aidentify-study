{
 "cells": [
  {
   "cell_type": "code",
   "execution_count": 1,
   "metadata": {},
   "outputs": [],
   "source": [
    "import tensorflow as tf"
   ]
  },
  {
   "cell_type": "code",
   "execution_count": 2,
   "metadata": {},
   "outputs": [],
   "source": [
    "#그래프 생성\n",
    "g = tf.Graph()\n",
    "with g.as_default() as base_g:\n",
    "    with base_g.name_scope(\"g1\") as scope:\n",
    "        # 상수를 생성하여 정의된 그래프에 추가 (상수 명령값을 출력하는 텐서를 하나 만든다)\n",
    "        x = tf.constant(10, name=\"X\")\n",
    "        y = tf.constant(5, name=\"Y\")\n",
    "        x_y = tf.add(x, y, name=\"ADD\")"
   ]
  },
  {
   "cell_type": "code",
   "execution_count": 3,
   "metadata": {},
   "outputs": [
    {
     "name": "stdout",
     "output_type": "stream",
     "text": [
      "15\n"
     ]
    }
   ],
   "source": [
    "# 세션 시작\n",
    "with tf.Session(graph=g) as sess:\n",
    "    # 그래프 계산 명령 실행\n",
    "    print(sess.run(x_y))"
   ]
  }
 ],
 "metadata": {
  "kernelspec": {
   "display_name": "Python 3",
   "language": "python",
   "name": "python3"
  },
  "language_info": {
   "codemirror_mode": {
    "name": "ipython",
    "version": 3
   },
   "file_extension": ".py",
   "mimetype": "text/x-python",
   "name": "python",
   "nbconvert_exporter": "python",
   "pygments_lexer": "ipython3",
   "version": "3.6.5"
  }
 },
 "nbformat": 4,
 "nbformat_minor": 2
}
